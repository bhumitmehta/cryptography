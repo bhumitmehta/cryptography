{
 "cells": [
  {
   "cell_type": "code",
   "execution_count": null,
   "metadata": {},
   "outputs": [],
   "source": [
    "import matplotlib.pyplot as plt\n",
    "import numpy as np"
   ]
  },
  {
   "cell_type": "code",
   "execution_count": 35,
   "metadata": {},
   "outputs": [],
   "source": [
    "cameraman = \"C:/Users/20092/OneDrive/Documents/Bhumit/cyptography/cameraman.png\"\n",
    "peppers = \"C:/Users/20092/OneDrive/Documents/Bhumit/cyptography/peppers.png\""
   ]
  },
  {
   "cell_type": "code",
   "execution_count": 47,
   "metadata": {},
   "outputs": [],
   "source": [
    "camera = Image.open(cameraman).convert('RGB')  # Color image\n",
    "cameraman_array = np.array(camera)\n",
    "pepper = Image.open(peppers).convert('RGB')  # Color image\n",
    "peppers_array = np.array(pepper)"
   ]
  },
  {
   "cell_type": "code",
   "execution_count": 102,
   "metadata": {},
   "outputs": [],
   "source": [
    "def load_image(image_path):\n",
    "    image = Image.open(image_path).convert('RGB')  # Color image\n",
    "    image_array = np.array(image)\n",
    "    return image_array"
   ]
  },
  {
   "cell_type": "code",
   "execution_count": 101,
   "metadata": {},
   "outputs": [],
   "source": [
    "import os\n",
    "\n",
    "def load_dataset(folder_path):\n",
    "    \"\"\"Load all images from the dataset folder.\"\"\"\n",
    "    image_paths = []\n",
    "    for root, _, files in os.walk(folder_path):\n",
    "        for file in files:\n",
    "            if file.lower().endswith(('.png', '.jpg', '.jpeg', '.bmp', '.tiff', '.webp')):\n",
    "                image_paths.append(os.path.join(root, file))\n",
    "    return image_paths\n"
   ]
  },
  {
   "cell_type": "code",
   "execution_count": 36,
   "metadata": {},
   "outputs": [],
   "source": [
    "def plot_images(original_image, encrypted_image, decrypted_image, shape):\n",
    "    fig, axes = plt.subplots(1, 4, figsize=(20, 5))\n",
    "\n",
    "    axes[0].imshow(original_image.reshape(shape))\n",
    "    axes[0].set_title(\"Original Image\")\n",
    "    axes[0].axis('off')\n",
    "\n",
    "    axes[1].imshow(encrypted_image.reshape(shape))\n",
    "    axes[1].set_title(\"Encrypted Image\")\n",
    "    axes[1].axis('off')\n",
    "\n",
    "    axes[2].imshow(decrypted_image.reshape(shape))\n",
    "    axes[2].set_title(\"Decrypted Image\")\n",
    "    axes[2].axis('off')\n",
    "\n",
    "    difference_image = np.abs(original_image - decrypted_image)\n",
    "    axes[3].imshow(difference_image.reshape(shape))\n",
    "    axes[3].set_title(\"Difference Image\")\n",
    "    axes[3].axis('off')\n",
    "\n",
    "    plt.show()"
   ]
  },
  {
   "cell_type": "code",
   "execution_count": 82,
   "metadata": {},
   "outputs": [],
   "source": [
    "import numpy as np\n",
    "import random\n",
    "\n",
    "def modify_single_pixel(image_array):\n",
    "    \"\"\"\n",
    "    Modify a single pixel in the image by assigning it a random value.\n",
    "    \n",
    "    Parameters:\n",
    "    image_array (numpy.ndarray): The input image as a NumPy array.\n",
    "    \n",
    "    Returns:\n",
    "    numpy.ndarray: The modified image.\n",
    "    tuple: The coordinates of the modified pixel.\n",
    "    \"\"\"\n",
    "    # Get the dimensions of the image\n",
    "    height, width, channels = image_array.shape\n",
    "\n",
    "    # Randomly select a pixel (row, column)\n",
    "    row = random.randint(0, height - 1)\n",
    "    col = random.randint(0, width - 1)\n",
    "\n",
    "    # Randomly assign a new value to the pixel\n",
    "    random_value = np.random.randint(0, 256, size=channels, dtype=np.uint8)\n",
    "    modified_image = image_array.copy()  # Create a copy to avoid altering the original image\n",
    "    modified_image[row, col] = random_value\n",
    "\n",
    "    return modified_image\n"
   ]
  },
  {
   "cell_type": "code",
   "execution_count": 38,
   "metadata": {},
   "outputs": [],
   "source": [
    "def change_image(image_path):\n",
    "    image = Image.open(image_path).convert('RGB')  # Color image\n",
    "    image_array = np.array(image)\n",
    "    modified_image_array = modify_single_pixel(image_array)\n",
    "    return modified_image_array"
   ]
  },
  {
   "cell_type": "code",
   "execution_count": 98,
   "metadata": {},
   "outputs": [],
   "source": [
    "import numpy as np\n",
    "from PIL import Image\n",
    "\n",
    "import wave\n",
    "import struct\n",
    "\n",
    "\n",
    "def compute_image_characteristics(image_array):\n",
    "    avg_intensity = np.mean(image_array)  # Average pixel intensity\n",
    "    variance = np.var(image_array)  # Variance of pixel intensity\n",
    "    histogram, _ = np.histogram(image_array, bins=256, range=(0, 255))\n",
    "    probabilities = histogram / np.sum(histogram)\n",
    "    entropy = -np.sum(p * np.log2(p) for p in probabilities if p > 0)  # Entropy calculation\n",
    "    return avg_intensity, variance, entropy\n",
    "\n",
    "def determine_block_size(image_shape):\n",
    "    print(image_shape)\n",
    "    height, width = image_shape[:2]\n",
    "    smaller_dim = min(height, width)\n",
    "    if smaller_dim <200:\n",
    "        return 1\n",
    "    if smaller_dim < 512:\n",
    "        return 16  # Small images\n",
    "    elif smaller_dim <= 2048:\n",
    "        return 64  # Medium images\n",
    "    else:\n",
    "        return 64 # Large images\n",
    "\n",
    "def divide_into_blocks(image_array, block_size):\n",
    "    height, width, channels = image_array.shape\n",
    "    padded_height = (height + block_size - 1) // block_size * block_size\n",
    "    padded_width = (width + block_size - 1) // block_size * block_size\n",
    "\n",
    "    padded_image = np.zeros((padded_height, padded_width, channels), dtype=image_array.dtype)\n",
    "    padded_image[:height, :width, :] = image_array\n",
    "\n",
    "    blocks = []\n",
    "    for i in range(0, padded_height, block_size):\n",
    "        for j in range(0, padded_width, block_size):\n",
    "            blocks.append(padded_image[i:i + block_size, j:j + block_size])\n",
    "    return blocks, (height, width), (padded_height, padded_width)\n",
    "\n",
    "def merge_blocks(blocks, original_shape, padded_shape, block_size):\n",
    "    padded_height, padded_width = padded_shape\n",
    "    merged_image = np.zeros((padded_height, padded_width, blocks[0].shape[2]), dtype=blocks[0].dtype)\n",
    "\n",
    "    block_index = 0\n",
    "    for i in range(0, padded_height, block_size):\n",
    "        for j in range(0, padded_width, block_size):\n",
    "            merged_image[i:i + block_size, j:j + block_size] = blocks[block_index]\n",
    "            block_index += 1\n",
    "\n",
    "    return merged_image[:original_shape[0], :original_shape[1], :]\n",
    "\n",
    "def generate_chen_keys(size, avg_intensity, variance):\n",
    "    x, y, z = avg_intensity / 255.0, variance / 255.0, 0.1  # Dynamic initialization\n",
    "    a, b, c = 35 + avg_intensity % 10, 3 + variance % 5, 28  # Adjusted parameters\n",
    "    keys = []\n",
    "    for _ in range(size):\n",
    "        dx = a * (y - x)\n",
    "        dy = x * (c - z) - y\n",
    "        dz = x * y - b * z\n",
    "        x += dx * 0.01\n",
    "        y += dy * 0.01\n",
    "        z += dz * 0.01\n",
    "        keys.append(x)\n",
    "    return np.abs(np.array(keys)) % 256  # Normalize keys to range [0, 255]\n",
    "\n",
    "def generate_lorenz_keys(size, avg_intensity, entropy):\n",
    "    x, y, z = avg_intensity / 255.0, 0.5, entropy / 10.0  # Dynamic initialization\n",
    "    sigma, rho, beta = 10 + entropy % 5, 28 + avg_intensity % 10, 2.667\n",
    "    keys = []\n",
    "    for _ in range(size):\n",
    "        dx = sigma * (y - x)\n",
    "        dy = x * (rho - z) - y\n",
    "        dz = x * y - beta * z\n",
    "        x += dx * 0.01\n",
    "        y += dy * 0.01\n",
    "        z += dz * 0.01\n",
    "        keys.append(y)\n",
    "    return np.abs(np.array(keys)) % 256\n",
    "\n",
    "def generate_logistic_keys(size, variance, entropy):\n",
    "    x = np.clip(variance / 255.0, 0.01, 0.99)  \n",
    "    r = np.clip(3.99 - (entropy % 0.1), 3.57, 4.0)  \n",
    "    keys = []\n",
    "    for _ in range(size):\n",
    "        x = r * x * (1 - x)  \n",
    "        keys.append(x)\n",
    "    return (np.array(keys) * 255).astype(np.uint8)\n",
    "\n",
    "def generate_dynamic_sbox(size, hybrid_keys):\n",
    "    chaotic_sequence = hybrid_keys[:size]\n",
    "    return np.argsort(chaotic_sequence)\n",
    "\n",
    "def encrypt_block_cbc(block, hybrid_keys, sbox, previous_block):\n",
    "    flat_block = block.flatten()\n",
    "\n",
    "    xor_block = flat_block ^ previous_block.flatten()\n",
    "\n",
    "    permutation_indices = np.argsort(hybrid_keys[:len(flat_block)])\n",
    "    permuted_block = xor_block[permutation_indices]\n",
    "    substituted_block = sbox[permuted_block]\n",
    "\n",
    "    return substituted_block.reshape(block.shape), substituted_block.flatten(), permutation_indices\n",
    "\n",
    "def decrypt_block_cbc(block, previous_block, permutation_indices, sbox_inv):\n",
    "    flat_block = block.flatten()\n",
    "\n",
    "    substituted_block = np.array([sbox_inv[pixel] for pixel in flat_block])\n",
    "\n",
    "    reverse_indices = np.argsort(permutation_indices)\n",
    "    permuted_block = substituted_block[reverse_indices]\n",
    "\n",
    "    decrypted_block = permuted_block ^ previous_block.flatten()\n",
    "\n",
    "    return decrypted_block.reshape(block.shape)\n",
    "\n",
    "\n",
    "\n",
    "def main(image_array):\n",
    "    # Load image\n",
    "    \n",
    "\n",
    "    # Determine block size dynamically\n",
    "    block_size = determine_block_size(image_array.shape)\n",
    "    print(f\"Using block size: {block_size}x{block_size}\")\n",
    "\n",
    "    # Divide image into blocks\n",
    "    blocks, original_shape, padded_shape = divide_into_blocks(image_array, block_size)\n",
    "\n",
    "    avg_intensity, variance, entropy = compute_image_characteristics(image_array)\n",
    "\n",
    "    chen_keys = generate_chen_keys(image_array.size, avg_intensity, variance)\n",
    "    lorenz_keys = generate_lorenz_keys(image_array.size, avg_intensity, entropy)\n",
    "    logistic_keys = generate_logistic_keys(image_array.size, variance, entropy)\n",
    "    hybrid_keys = (lorenz_keys + logistic_keys + chen_keys) % 256\n",
    "\n",
    "    sbox = generate_dynamic_sbox(256, hybrid_keys)\n",
    "    sbox_inv = np.argsort(sbox)\n",
    "\n",
    "    iv = np.random.randint(0, 256, (block_size, block_size, 3), dtype=np.uint8)\n",
    "\n",
    "    encrypted_blocks = []\n",
    "    permutation_indices_list = []\n",
    "    previous_block = iv  # Start with IV\n",
    "    for block in blocks:\n",
    "        encrypted_block, previous_block_flattened, permutation_indices = encrypt_block_cbc(\n",
    "            block, hybrid_keys, sbox, previous_block\n",
    "        )\n",
    "        encrypted_blocks.append(encrypted_block)\n",
    "        permutation_indices_list.append(permutation_indices)\n",
    "        previous_block = previous_block_flattened.reshape(block.shape)  # Update to the current encrypted block for next iteration\n",
    "\n",
    "    encrypted_image = merge_blocks(encrypted_blocks, original_shape, padded_shape, block_size)\n",
    "\n",
    "    extracted_blocks, _, _ = divide_into_blocks(encrypted_image, block_size)\n",
    "\n",
    "    decrypted_blocks = []\n",
    "    previous_block = iv  # Start with IV again\n",
    "    for i, block in enumerate(extracted_blocks):\n",
    "        decrypted_block = decrypt_block_cbc(block, previous_block, permutation_indices_list[i], sbox_inv)\n",
    "        decrypted_blocks.append(decrypted_block)\n",
    "        previous_block = block  # Update to the current ciphertext block\n",
    "    decrypted_image = merge_blocks(decrypted_blocks, original_shape, padded_shape, block_size)\n",
    "\n",
    "    # plot_images(image_array, encrypted_image, decrypted_image, image_array.shape)\n",
    "    return encrypted_image, decrypted_image\n",
    "# if __name__ == \"__main__\":\n",
    "#     # image_path = \"C:/Users/20092/OneDrive/Documents/Bhumit/cyptography/imresizer-1732212939706.jpg\"  # Replace with your image path\n",
    "#     # main(image_path)\n",
    "#     image = Image.open(\"C:/Users/20092/OneDrive/Documents/Bhumit/cyptography/cameraman.png\").convert('RGB')  # Color image\n",
    "#     image_array = np.array(image)\n",
    "#     main(image_array)\n",
    "    #main(\"C:/Users/20092/OneDrive/Documents/Bhumit/cyptography/peppers.png\")\n",
    "    \n",
    "    # main(\"C:/Users/20092/OneDrive/Documents/Bhumit/cyptography/image.png\")"
   ]
  },
  {
   "cell_type": "code",
   "execution_count": 105,
   "metadata": {},
   "outputs": [],
   "source": [
    "def encrypt_image(image_array, block_size):\n",
    "    \"\"\"Encrypt an image and return the encrypted image, along with metadata.\"\"\"\n",
    "    iv = np.random.randint(0, 256, (block_size, block_size, image_array.shape[2]), dtype=np.uint8)\n",
    "    blocks, original_shape, padded_shape = divide_into_blocks(image_array, block_size)\n",
    "\n",
    "    encrypted_blocks = []\n",
    "    permutation_indices_list = []\n",
    "    characteristics_list = []\n",
    "    previous_block = iv  # Initialization Vector (IV)\n",
    "\n",
    "    for block in blocks:\n",
    "        # Compute characteristics\n",
    "        avg_intensity, variance, entropy = compute_image_characteristics(block)\n",
    "        characteristics_list.append((avg_intensity, variance, entropy))\n",
    "\n",
    "        # Generate hybrid keys and S-Box\n",
    "        chen_keys = generate_chen_keys(block.size, avg_intensity, variance)\n",
    "        lorenz_keys = generate_lorenz_keys(block.size, avg_intensity, entropy)\n",
    "        logistic_keys = generate_logistic_keys(block.size, variance, entropy)\n",
    "        hybrid_keys = (lorenz_keys + logistic_keys + chen_keys) % 256\n",
    "\n",
    "        sbox = generate_dynamic_sbox(256, hybrid_keys)\n",
    "        sbox_inv = np.argsort(sbox)\n",
    "\n",
    "        # Encrypt block\n",
    "        encrypted_block, previous_block_flattened, permutation_indices = encrypt_block_cbc(\n",
    "            block, hybrid_keys, sbox, previous_block\n",
    "        )\n",
    "        encrypted_blocks.append(encrypted_block)\n",
    "        permutation_indices_list.append(permutation_indices)\n",
    "        previous_block = previous_block_flattened.reshape(block.shape)  # Update chaining block\n",
    "\n",
    "    encrypted_image = merge_blocks(encrypted_blocks, original_shape, padded_shape, block_size)\n",
    "    return encrypted_image, iv, permutation_indices_list, characteristics_list\n"
   ]
  },
  {
   "cell_type": "code",
   "execution_count": 106,
   "metadata": {},
   "outputs": [],
   "source": [
    "def decrypt_image(encrypted_image, block_size, iv, permutation_indices_list, characteristics_list):\n",
    "    \"\"\"Decrypt an encrypted image using metadata.\"\"\"\n",
    "    blocks, original_shape, padded_shape = divide_into_blocks(encrypted_image, block_size)\n",
    "\n",
    "    decrypted_blocks = []\n",
    "    previous_block = iv  # Initialization Vector (IV)\n",
    "\n",
    "    for i, block in enumerate(blocks):\n",
    "        # Retrieve characteristics\n",
    "        avg_intensity, variance, entropy = characteristics_list[i]\n",
    "\n",
    "        # Generate hybrid keys and S-Box\n",
    "        chen_keys = generate_chen_keys(block.size, avg_intensity, variance)\n",
    "        lorenz_keys = generate_lorenz_keys(block.size, avg_intensity, entropy)\n",
    "        logistic_keys = generate_logistic_keys(block.size, variance, entropy)\n",
    "        hybrid_keys = (lorenz_keys + logistic_keys + chen_keys) % 256\n",
    "\n",
    "        sbox = generate_dynamic_sbox(256, hybrid_keys)\n",
    "        sbox_inv = np.argsort(sbox)\n",
    "\n",
    "        # Decrypt block\n",
    "        decrypted_block = decrypt_block_cbc(block, previous_block, permutation_indices_list[i], sbox_inv)\n",
    "        decrypted_blocks.append(decrypted_block)\n",
    "        previous_block = block  # Update chaining block\n",
    "\n",
    "    return merge_blocks(decrypted_blocks, original_shape, padded_shape, block_size)\n"
   ]
  },
  {
   "cell_type": "code",
   "execution_count": null,
   "metadata": {},
   "outputs": [],
   "source": []
  },
  {
   "cell_type": "code",
   "execution_count": 72,
   "metadata": {},
   "outputs": [],
   "source": [
    "def calculate_npcr(original, modified):\n",
    "    \"\"\"Calculate NPCR (Number of Pixel Change Rate) between two images.\"\"\"\n",
    "    original = original.flatten()\n",
    "    modified = modified.flatten()\n",
    "    changed_pixels = np.sum(original != modified)\n",
    "    total_pixels = original.size\n",
    "    return (changed_pixels / total_pixels) * 100  # Percentage\n"
   ]
  },
  {
   "cell_type": "code",
   "execution_count": 99,
   "metadata": {},
   "outputs": [],
   "source": [
    "def calculate_npcr_image(image_path):\n",
    "    image = Image.open(image_path).convert('RGB')  # Color image\n",
    "    image_array = np.array(image)\n",
    "    encrypted_image,decrypted_image = main(image_array)\n",
    "    modified_image = modify_single_pixel(image_array)\n",
    "    modified_encrypted_image,modified_decrypted_image = main(modified_image)\n",
    "    print(calculate_npcr(encrypted_image,modified_encrypted_image))"
   ]
  },
  {
   "cell_type": "code",
   "execution_count": 100,
   "metadata": {},
   "outputs": [
    {
     "name": "stdout",
     "output_type": "stream",
     "text": [
      "(512, 512, 3)\n",
      "Using block size: 64x64\n"
     ]
    },
    {
     "name": "stderr",
     "output_type": "stream",
     "text": [
      "C:\\Users\\20092\\AppData\\Local\\Temp\\ipykernel_31716\\113127569.py:13: DeprecationWarning: Calling np.sum(generator) is deprecated, and in the future will give a different result. Use np.sum(np.fromiter(generator)) or the python sum builtin instead.\n",
      "  entropy = -np.sum(p * np.log2(p) for p in probabilities if p > 0)  # Entropy calculation\n"
     ]
    },
    {
     "name": "stdout",
     "output_type": "stream",
     "text": [
      "(512, 512, 3)\n",
      "Using block size: 64x64\n",
      "99.60416158040366\n",
      "(384, 512, 3)\n",
      "Using block size: 16x16\n",
      "(384, 512, 3)\n",
      "Using block size: 16x16\n",
      "99.61276584201389\n"
     ]
    }
   ],
   "source": [
    "calculate_npcr_image(cameraman)\n",
    "calculate_npcr_image(peppers)"
   ]
  },
  {
   "cell_type": "code",
   "execution_count": 75,
   "metadata": {},
   "outputs": [],
   "source": [
    "def calculate_uaci(original, modified):\n",
    "    \"\"\"Calculate UACI (Unified Average Changing Intensity) between two images.\"\"\"\n",
    "    original = original.flatten().astype(np.float32)\n",
    "    modified = modified.flatten().astype(np.float32)\n",
    "    uaci = np.sum(np.abs(original - modified)) / (255 * original.size)\n",
    "    return uaci * 100  # Percentage\n"
   ]
  },
  {
   "cell_type": "code",
   "execution_count": 76,
   "metadata": {},
   "outputs": [],
   "source": [
    "def calculate_uaci_image(image_path):\n",
    "    image = Image.open(image_path).convert('RGB')  # Color image\n",
    "    image_array = np.array(image)\n",
    "    encrypted_image,decrypted_image = main(image_array)\n",
    "    modified_image = modify_single_pixel(image_array)\n",
    "    modified_encrypted_image,modified_decrypted_image = main(modified_image)\n",
    "    print(calculate_uaci(encrypted_image,modified_encrypted_image))"
   ]
  },
  {
   "cell_type": "code",
   "execution_count": 96,
   "metadata": {},
   "outputs": [
    {
     "name": "stdout",
     "output_type": "stream",
     "text": [
      "(512, 512, 3)\n",
      "Using block size: 64x64\n"
     ]
    },
    {
     "name": "stderr",
     "output_type": "stream",
     "text": [
      "C:\\Users\\20092\\AppData\\Local\\Temp\\ipykernel_31716\\113127569.py:13: DeprecationWarning: Calling np.sum(generator) is deprecated, and in the future will give a different result. Use np.sum(np.fromiter(generator)) or the python sum builtin instead.\n",
      "  entropy = -np.sum(p * np.log2(p) for p in probabilities if p > 0)  # Entropy calculation\n"
     ]
    },
    {
     "name": "stdout",
     "output_type": "stream",
     "text": [
      "(512, 512, 3)\n",
      "Using block size: 64x64\n",
      "33.46326242085376\n",
      "(384, 512, 3)\n",
      "Using block size: 16x16\n",
      "(384, 512, 3)\n",
      "Using block size: 16x16\n",
      "33.501976528458606\n"
     ]
    }
   ],
   "source": [
    "calculate_uaci_image(cameraman)\n",
    "calculate_uaci_image(peppers)"
   ]
  },
  {
   "cell_type": "code",
   "execution_count": 119,
   "metadata": {},
   "outputs": [
    {
     "name": "stdout",
     "output_type": "stream",
     "text": [
      "(512, 512, 3)\n",
      "Using block size: 64x64\n"
     ]
    },
    {
     "name": "stderr",
     "output_type": "stream",
     "text": [
      "C:\\Users\\20092\\AppData\\Local\\Temp\\ipykernel_31716\\113127569.py:13: DeprecationWarning: Calling np.sum(generator) is deprecated, and in the future will give a different result. Use np.sum(np.fromiter(generator)) or the python sum builtin instead.\n",
      "  entropy = -np.sum(p * np.log2(p) for p in probabilities if p > 0)  # Entropy calculation\n",
      "C:\\Users\\20092\\AppData\\Local\\Temp\\ipykernel_31716\\2119213749.py:5: DeprecationWarning: Calling np.sum(generator) is deprecated, and in the future will give a different result. Use np.sum(np.fromiter(generator)) or the python sum builtin instead.\n",
      "  entropy = -np.sum(p * np.log2(p) for p in probabilities if p > 0)\n"
     ]
    },
    {
     "name": "stdout",
     "output_type": "stream",
     "text": [
      "cameraman 6.049670834469638\n",
      "7.999755701594122\n",
      "(384, 512, 3)\n",
      "Using block size: 16x16\n",
      "peppers 7.378534223569768\n",
      "7.999666645646851\n"
     ]
    }
   ],
   "source": [
    "def calculate_entropy(image):\n",
    "    \"\"\"Calculate the entropy of an image.\"\"\"\n",
    "    histogram, _ = np.histogram(image.flatten(), bins=256, range=(0, 255))\n",
    "    probabilities = histogram / np.sum(histogram)\n",
    "    entropy = -np.sum(p * np.log2(p) for p in probabilities if p > 0)\n",
    "    return entropy\n",
    "\n",
    "\n",
    "cameraman_encrypted_image,_ = main(cameraman_array)\n",
    "print(\"cameraman\",calculate_entropy(cameraman_array))\n",
    "print(calculate_entropy(cameraman_encrypted_image))\n",
    "peppers_encrypted_image,_ = main(peppers_array)\n",
    "print(\"peppers\",calculate_entropy(peppers_array))\n",
    "print(calculate_entropy(peppers_encrypted_image))\n",
    "\n"
   ]
  },
  {
   "cell_type": "code",
   "execution_count": null,
   "metadata": {},
   "outputs": [],
   "source": [
    "def calculate_correlation(original):\n",
    "    \"\"\"Calculate the horizontal, vertical, and diagonal correlation of an image.\"\"\"\n",
    "    height, width = original.shape\n",
    "\n",
    "    # Horizontal correlation\n",
    "    horizontal = np.corrcoef(original[:, :-1].flatten(), original[:, 1:].flatten())[0, 1]\n",
    "\n",
    "    # Vertical correlation\n",
    "    vertical = np.corrcoef(original[:-1, :].flatten(), original[1:, :].flatten())[0, 1]\n",
    "\n",
    "    # Diagonal correlation\n",
    "    diagonal = np.corrcoef(original[:-1, :-1].flatten(), original[1:, 1:].flatten())[0, 1]\n",
    "\n",
    "    return horizontal, vertical, diagonal\n"
   ]
  },
  {
   "cell_type": "code",
   "execution_count": null,
   "metadata": {},
   "outputs": [],
   "source": [
    "def differential_analysis(original, encrypted_image, delta=1):\n",
    "    \"\"\"Perform differential analysis by changing one pixel and measuring NPCR and UACI.\"\"\"\n",
    "    modified_image = np.copy(original)\n",
    "    modified_image[0, 0] = delta  # Change one pixel\n",
    "\n",
    "    # Encrypt the modified image\n",
    "    encrypted_modified = encrypt_image(modified_image, block_size)[0]  # Assuming `encrypt_image` is defined\n",
    "\n",
    "    # Calculate NPCR and UACI\n",
    "    npcr = calculate_npcr(encrypted_image, encrypted_modified)\n",
    "    uaci = calculate_uaci(encrypted_image, encrypted_modified)\n",
    "\n",
    "    return npcr, uaci\n"
   ]
  },
  {
   "cell_type": "code",
   "execution_count": null,
   "metadata": {},
   "outputs": [],
   "source": [
    "def key_modification_analysis(image, block_size, characteristics_list, permutation_indices_list):\n",
    "    \"\"\"Evaluate how changing the key affects the encryption.\"\"\"\n",
    "    encrypted_image, iv, permutation_indices_list, characteristics_list = encrypt_image(image, block_size)\n",
    "    \n",
    "    # Modify key slightly (e.g., changing the first value)\n",
    "    modified_permutation_indices = permutation_indices_list.copy()\n",
    "    modified_permutation_indices[0] = (modified_permutation_indices[0] + 1) % 256\n",
    "\n",
    "    # Re-encrypt with the modified key\n",
    "    modified_encrypted_image = decrypt_image(encrypted_image, block_size, iv, modified_permutation_indices, characteristics_list)\n",
    "\n",
    "    # Calculate NPCR and UACI for modified key\n",
    "    npcr = calculate_npcr(encrypted_image, modified_encrypted_image)\n",
    "    uaci = calculate_uaci(encrypted_image, modified_encrypted_image)\n",
    "\n",
    "    return npcr, uaci\n"
   ]
  },
  {
   "cell_type": "code",
   "execution_count": 109,
   "metadata": {},
   "outputs": [],
   "source": [
    "import math\n",
    "\n",
    "def calculate_psnr(original, modified):\n",
    "    \"\"\"Calculate PSNR (Peak Signal-to-Noise Ratio) between two images.\"\"\"\n",
    "    mse = np.mean((original - modified) ** 2)\n",
    "    if mse == 0:\n",
    "        return 100  # Infinite PSNR\n",
    "    max_pixel = 255.0\n",
    "    return 20 * math.log10(max_pixel / math.sqrt(mse))\n"
   ]
  },
  {
   "cell_type": "code",
   "execution_count": 110,
   "metadata": {},
   "outputs": [],
   "source": [
    "from skimage.metrics import structural_similarity as ssim\n",
    "\n",
    "def calculate_ssim(original, modified):\n",
    "    \"\"\"Calculate SSIM (Structural Similarity Index) between two images.\"\"\"\n",
    "    return ssim(original, modified, multichannel=True)\n"
   ]
  },
  {
   "cell_type": "code",
   "execution_count": 126,
   "metadata": {},
   "outputs": [],
   "source": [
    "from skimage.metrics import structural_similarity as ssim\n",
    "\n",
    "def calculate_ms_ssim(original, modified):\n",
    "    \"\"\"Calculate MS-SSIM (Multi-Scale Structural Similarity Index) between two images.\"\"\"\n",
    "    return ssim(original, modified, multichannel=True, channel_axis =2,win_size=11, gaussian_weights=True, use_sample_covariance=False)\n"
   ]
  },
  {
   "cell_type": "code",
   "execution_count": null,
   "metadata": {},
   "outputs": [
    {
     "data": {
      "text/plain": [
       "0.008934633501083132"
      ]
     },
     "execution_count": 130,
     "metadata": {},
     "output_type": "execute_result"
    }
   ],
   "source": [
    "print(calculate_ms_ssim(cameraman_array,cameraman_encrypted_image))\n",
    "print(calculate_ms_ssim(peppers_array,peppers_encrypted_image))"
   ]
  },
  {
   "cell_type": "code",
   "execution_count": 112,
   "metadata": {},
   "outputs": [],
   "source": [
    "def average_effect(original, encrypted):\n",
    "    \"\"\"Calculate the average effect of encryption by measuring the pixel intensity differences.\"\"\"\n",
    "    diff = np.abs(original - encrypted)\n",
    "    return np.mean(diff)\n"
   ]
  },
  {
   "cell_type": "code",
   "execution_count": null,
   "metadata": {},
   "outputs": [],
   "source": []
  },
  {
   "cell_type": "code",
   "execution_count": null,
   "metadata": {},
   "outputs": [
    {
     "name": "stdout",
     "output_type": "stream",
     "text": [
      "Processing: C:/Users/20092/OneDrive/Documents/Bhumit/cyptography\\cameraman.png\n",
      "(512, 512, 3)\n"
     ]
    },
    {
     "name": "stderr",
     "output_type": "stream",
     "text": [
      "C:\\Users\\20092\\AppData\\Local\\Temp\\ipykernel_31716\\113127569.py:13: DeprecationWarning: Calling np.sum(generator) is deprecated, and in the future will give a different result. Use np.sum(np.fromiter(generator)) or the python sum builtin instead.\n",
      "  entropy = -np.sum(p * np.log2(p) for p in probabilities if p > 0)  # Entropy calculation\n"
     ]
    },
    {
     "name": "stdout",
     "output_type": "stream",
     "text": [
      "NPCR: 99.61%, UACI: 31.17%, PSNR: 8.39, , Entropy: 7.9998\n",
      "Processing: C:/Users/20092/OneDrive/Documents/Bhumit/cyptography\\imresizer-1732212939706.jpg\n",
      "(50, 50, 3)\n"
     ]
    },
    {
     "name": "stderr",
     "output_type": "stream",
     "text": [
      "C:\\Users\\20092\\AppData\\Local\\Temp\\ipykernel_31716\\2743621014.py:5: DeprecationWarning: Calling np.sum(generator) is deprecated, and in the future will give a different result. Use np.sum(np.fromiter(generator)) or the python sum builtin instead.\n",
      "  entropy = -np.sum(p * np.log2(p) for p in probabilities if p > 0)\n"
     ]
    },
    {
     "ename": "IndexError",
     "evalue": "index 179 is out of bounds for axis 0 with size 3",
     "output_type": "error",
     "traceback": [
      "\u001b[1;31m---------------------------------------------------------------------------\u001b[0m",
      "\u001b[1;31mIndexError\u001b[0m                                Traceback (most recent call last)",
      "Cell \u001b[1;32mIn[118], line 1\u001b[0m\n\u001b[1;32m----> 1\u001b[0m \u001b[43mprocess_and_test_dataset\u001b[49m\u001b[43m(\u001b[49m\u001b[38;5;124;43m\"\u001b[39;49m\u001b[38;5;124;43mC:/Users/20092/OneDrive/Documents/Bhumit/cyptography\u001b[39;49m\u001b[38;5;124;43m\"\u001b[39;49m\u001b[43m,\u001b[49m\u001b[38;5;124;43m\"\u001b[39;49m\u001b[38;5;124;43mC:/Users/20092/OneDrive/Documents/Bhumit/cyptography/output\u001b[39;49m\u001b[38;5;124;43m\"\u001b[39;49m\u001b[43m)\u001b[49m\n",
      "Cell \u001b[1;32mIn[117], line 12\u001b[0m, in \u001b[0;36mprocess_and_test_dataset\u001b[1;34m(folder_path, output_path)\u001b[0m\n\u001b[0;32m      9\u001b[0m block_size \u001b[38;5;241m=\u001b[39m determine_block_size(image_array\u001b[38;5;241m.\u001b[39mshape)\n\u001b[0;32m     11\u001b[0m \u001b[38;5;66;03m# Encrypt the image\u001b[39;00m\n\u001b[1;32m---> 12\u001b[0m encrypted_image, iv, permutation_indices_list, characteristics_list \u001b[38;5;241m=\u001b[39m \u001b[43mencrypt_image\u001b[49m\u001b[43m(\u001b[49m\u001b[43mimage_array\u001b[49m\u001b[43m,\u001b[49m\u001b[43m \u001b[49m\u001b[43mblock_size\u001b[49m\u001b[43m)\u001b[49m\n\u001b[0;32m     14\u001b[0m \u001b[38;5;66;03m# Save encrypted image\u001b[39;00m\n\u001b[0;32m     15\u001b[0m encrypted_image_path \u001b[38;5;241m=\u001b[39m os\u001b[38;5;241m.\u001b[39mpath\u001b[38;5;241m.\u001b[39mjoin(output_path, \u001b[38;5;124m\"\u001b[39m\u001b[38;5;124mencrypted\u001b[39m\u001b[38;5;124m\"\u001b[39m, os\u001b[38;5;241m.\u001b[39mpath\u001b[38;5;241m.\u001b[39mbasename(image_path))\n",
      "Cell \u001b[1;32mIn[105], line 26\u001b[0m, in \u001b[0;36mencrypt_image\u001b[1;34m(image_array, block_size)\u001b[0m\n\u001b[0;32m     23\u001b[0m sbox_inv \u001b[38;5;241m=\u001b[39m np\u001b[38;5;241m.\u001b[39margsort(sbox)\n\u001b[0;32m     25\u001b[0m \u001b[38;5;66;03m# Encrypt block\u001b[39;00m\n\u001b[1;32m---> 26\u001b[0m encrypted_block, previous_block_flattened, permutation_indices \u001b[38;5;241m=\u001b[39m \u001b[43mencrypt_block_cbc\u001b[49m\u001b[43m(\u001b[49m\n\u001b[0;32m     27\u001b[0m \u001b[43m    \u001b[49m\u001b[43mblock\u001b[49m\u001b[43m,\u001b[49m\u001b[43m \u001b[49m\u001b[43mhybrid_keys\u001b[49m\u001b[43m,\u001b[49m\u001b[43m \u001b[49m\u001b[43msbox\u001b[49m\u001b[43m,\u001b[49m\u001b[43m \u001b[49m\u001b[43mprevious_block\u001b[49m\n\u001b[0;32m     28\u001b[0m \u001b[43m\u001b[49m\u001b[43m)\u001b[49m\n\u001b[0;32m     29\u001b[0m encrypted_blocks\u001b[38;5;241m.\u001b[39mappend(encrypted_block)\n\u001b[0;32m     30\u001b[0m permutation_indices_list\u001b[38;5;241m.\u001b[39mappend(permutation_indices)\n",
      "Cell \u001b[1;32mIn[98], line 103\u001b[0m, in \u001b[0;36mencrypt_block_cbc\u001b[1;34m(block, hybrid_keys, sbox, previous_block)\u001b[0m\n\u001b[0;32m    101\u001b[0m permutation_indices \u001b[38;5;241m=\u001b[39m np\u001b[38;5;241m.\u001b[39margsort(hybrid_keys[:\u001b[38;5;28mlen\u001b[39m(flat_block)])\n\u001b[0;32m    102\u001b[0m permuted_block \u001b[38;5;241m=\u001b[39m xor_block[permutation_indices]\n\u001b[1;32m--> 103\u001b[0m substituted_block \u001b[38;5;241m=\u001b[39m \u001b[43msbox\u001b[49m\u001b[43m[\u001b[49m\u001b[43mpermuted_block\u001b[49m\u001b[43m]\u001b[49m\n\u001b[0;32m    105\u001b[0m \u001b[38;5;28;01mreturn\u001b[39;00m substituted_block\u001b[38;5;241m.\u001b[39mreshape(block\u001b[38;5;241m.\u001b[39mshape), substituted_block\u001b[38;5;241m.\u001b[39mflatten(), permutation_indices\n",
      "\u001b[1;31mIndexError\u001b[0m: index 179 is out of bounds for axis 0 with size 3"
     ]
    }
   ],
   "source": []
  }
 ],
 "metadata": {
  "kernelspec": {
   "display_name": ".venv",
   "language": "python",
   "name": "python3"
  },
  "language_info": {
   "codemirror_mode": {
    "name": "ipython",
    "version": 3
   },
   "file_extension": ".py",
   "mimetype": "text/x-python",
   "name": "python",
   "nbconvert_exporter": "python",
   "pygments_lexer": "ipython3",
   "version": "3.12.6"
  }
 },
 "nbformat": 4,
 "nbformat_minor": 2
}
